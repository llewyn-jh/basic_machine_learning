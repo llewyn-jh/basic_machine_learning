{
 "cells": [
  {
   "cell_type": "markdown",
   "id": "sublime-missouri",
   "metadata": {},
   "source": [
    "# Application problem"
   ]
  },
  {
   "cell_type": "code",
   "execution_count": 1,
   "id": "tired-destruction",
   "metadata": {},
   "outputs": [],
   "source": [
    "%config Completer.use_jedi = False"
   ]
  },
  {
   "cell_type": "code",
   "execution_count": 7,
   "id": "owned-composite",
   "metadata": {},
   "outputs": [],
   "source": [
    "from scipy.signal import correlate2d\n",
    "import numpy as np"
   ]
  },
  {
   "cell_type": "code",
   "execution_count": 5,
   "id": "million-estonia",
   "metadata": {},
   "outputs": [],
   "source": [
    "input_matrix = np.array([[3, 0, 9, 1, 2],\n",
    "                        [5, 1, 2, 0, 7],\n",
    "                        [8, 2, 4, 1, 3],\n",
    "                        [2, 1, 5, 3, 6],\n",
    "                        [4, 1, 6, 2, 7]])\n",
    "\n",
    "kernel_matrix = np.array([[2, 0, 1],\n",
    "                         [2, 0, 1],\n",
    "                         [2, 0, 1]])"
   ]
  },
  {
   "cell_type": "code",
   "execution_count": 9,
   "id": "hearing-prediction",
   "metadata": {},
   "outputs": [
    {
     "data": {
      "text/plain": [
       "array([[47,  8, 42],\n",
       "       [41, 12, 38],\n",
       "       [43, 14, 46]])"
      ]
     },
     "execution_count": 9,
     "metadata": {},
     "output_type": "execute_result"
    }
   ],
   "source": [
    "correlate2d(input_matrix, kernel_matrix, mode='valid')"
   ]
  },
  {
   "cell_type": "code",
   "execution_count": 29,
   "id": "comprehensive-bracket",
   "metadata": {},
   "outputs": [],
   "source": [
    "input_matrix = np.array([[[9, 10, 6, 2],\n",
    "                          [2, 1, 4, 8],\n",
    "                          [9, 0, 7, 1],\n",
    "                          [8, 8, 3, 3]],\n",
    "                         [[6, 7, 2, 10],\n",
    "                          [1, 2, 6, 9],\n",
    "                          [6, 4, 3, 5],\n",
    "                          [8, 0, 1, 2]]])"
   ]
  },
  {
   "cell_type": "code",
   "execution_count": 30,
   "id": "whole-induction",
   "metadata": {},
   "outputs": [
    {
     "data": {
      "text/plain": [
       "array([[[[ 9],\n",
       "         [10],\n",
       "         [ 6],\n",
       "         [ 2]],\n",
       "\n",
       "        [[ 2],\n",
       "         [ 1],\n",
       "         [ 4],\n",
       "         [ 8]],\n",
       "\n",
       "        [[ 9],\n",
       "         [ 0],\n",
       "         [ 7],\n",
       "         [ 1]],\n",
       "\n",
       "        [[ 8],\n",
       "         [ 8],\n",
       "         [ 3],\n",
       "         [ 3]]],\n",
       "\n",
       "\n",
       "       [[[ 6],\n",
       "         [ 7],\n",
       "         [ 2],\n",
       "         [10]],\n",
       "\n",
       "        [[ 1],\n",
       "         [ 2],\n",
       "         [ 6],\n",
       "         [ 9]],\n",
       "\n",
       "        [[ 6],\n",
       "         [ 4],\n",
       "         [ 3],\n",
       "         [ 5]],\n",
       "\n",
       "        [[ 8],\n",
       "         [ 0],\n",
       "         [ 1],\n",
       "         [ 2]]]])"
      ]
     },
     "execution_count": 30,
     "metadata": {},
     "output_type": "execute_result"
    }
   ],
   "source": [
    "input_matrix = input_matrix.reshape(2, 4, 4, 1)\n",
    "input_matrix"
   ]
  },
  {
   "cell_type": "code",
   "execution_count": 17,
   "id": "prime-transfer",
   "metadata": {},
   "outputs": [],
   "source": [
    "import tensorflow as tf"
   ]
  },
  {
   "cell_type": "code",
   "execution_count": 31,
   "id": "sharp-black",
   "metadata": {},
   "outputs": [],
   "source": [
    "p_out = tf.nn.max_pool2d(input_matrix, ksize=2, strides=2, padding='VALID')"
   ]
  },
  {
   "cell_type": "code",
   "execution_count": 32,
   "id": "bacterial-parcel",
   "metadata": {},
   "outputs": [
    {
     "data": {
      "text/plain": [
       "array([[[[10.],\n",
       "         [ 8.]],\n",
       "\n",
       "        [[ 9.],\n",
       "         [ 7.]]],\n",
       "\n",
       "\n",
       "       [[[ 7.],\n",
       "         [10.]],\n",
       "\n",
       "        [[ 8.],\n",
       "         [ 5.]]]], dtype=float32)"
      ]
     },
     "execution_count": 32,
     "metadata": {},
     "output_type": "execute_result"
    }
   ],
   "source": [
    "p_out.numpy()"
   ]
  }
 ],
 "metadata": {
  "kernelspec": {
   "display_name": "Python 3",
   "language": "python",
   "name": "python3"
  },
  "language_info": {
   "codemirror_mode": {
    "name": "ipython",
    "version": 3
   },
   "file_extension": ".py",
   "mimetype": "text/x-python",
   "name": "python",
   "nbconvert_exporter": "python",
   "pygments_lexer": "ipython3",
   "version": "3.8.2"
  }
 },
 "nbformat": 4,
 "nbformat_minor": 5
}
